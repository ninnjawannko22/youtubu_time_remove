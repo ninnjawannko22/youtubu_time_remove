{
 "cells": [
  {
   "cell_type": "code",
   "execution_count": null,
   "metadata": {},
   "outputs": [],
   "source": [
    "import re\n",
    "\n",
    "def remove_timestamps(text):\n",
    "    pattern = r\"\\*\\*\\d+:\\d+\\*\\*\"\n",
    "    result = re.sub(pattern, \"\", text)\n",
    "    return result\n",
    "\n",
    "# サンプルのテキスト\n",
    "text = \"\"\"\n",
    "\n",
    "**0:38**\n",
    "\n",
    "A\n",
    "\n",
    "**0:40**\n",
    "\n",
    "B\n",
    "\n",
    "**0:42**\n",
    "\n",
    "C\n",
    "\n",
    "**0:45**\n",
    "\n",
    "\"\"\"\n",
    "\n",
    "# 時間表示を削除\n",
    "modified_text = remove_timestamps(text)\n",
    "\n",
    "# テキストファイルに保存\n",
    "with open(\"ファイル名.txt\", \"w\", encoding=\"utf-8\") as file:\n",
    "    file.write(modified_text)\n",
    "\n",
    "print(\"テキストの処理が完了し、ファイル名.txtに保存されました。\")"
   ]
  }
 ],
 "metadata": {
  "language_info": {
   "name": "python"
  },
  "orig_nbformat": 4
 },
 "nbformat": 4,
 "nbformat_minor": 2
}
